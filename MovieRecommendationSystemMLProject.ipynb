import pandas as pd
import numpy as np
import difflib
from sklearn.feature_extraction.text import TfidfVectorizer
from sklearn.metrics.pairwise import cosine_similarity
data=pd.read_csv('/content/movies.csv')
data.head(5)
data.tail(5)
data.info()
data.shape
selected_features=['genres','keywords','tagline','cast','director']
data.isnull().sum()
selected_features
data.isnull().sum()
for feature in selected_features:
  data[feature]=data[feature].fillna('')
data.isnull().sum()
combined_features=data['genres']+' '+ data['keywords'] +' ' + data['tagline']+' '+ data['cast']+' '+ data['director']
combined_features
vectorizer=TfidfVectorizer()
feature_vectors=vectorizer.fit_transform(combined_features)
feature_vectors
similarity=cosine_similarity(feature_vectors)
print(similarity)
similarity.shape 
movie_name=input("Enter your favourite movie name: ")
list_of_titles=data['title'].tolist()
find_close_max=difflib.get_close_matches(movie_name, list_of_titles)
close_match=find_close_max[0]
index_of_movie=data[data.title== close_match]['index'].values[0]
similarity_score=list(enumerate(similarity[index_of_movie]))
sorted_similar_movies=sorted(similarity_score, key=lambda x:x[1],reverse=True )
print('Movies suggested for you : \n')
i=1
for movie in sorted_similar_movies:
  index=movie[0]
  title_from_index=data[data.index==index]['title'].values[0]
  if i<=30:
    print(i,' ',title_from_index)
    i+=1

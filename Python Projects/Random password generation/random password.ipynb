{
 "cells": [
  {
   "cell_type": "code",
   "execution_count": 2,
   "metadata": {},
   "outputs": [
    {
     "name": "stdout",
     "output_type": "stream",
     "text": [
      "rgCM9T5nlDihtLV7\n"
     ]
    }
   ],
   "source": [
    "import random\n",
    "\n",
    "lower = \"abcdefghijklmnopqrstuvwxyz\"\n",
    "upper = \"ABCDEFGHIJKLMNOPQRSTUVWXYZ\"\n",
    "numbers = \"0123456789\"\n",
    "symbols = \"[]{}()*;/,._-\"\n",
    "all = lower + upper + numbers + symbols\n",
    "length = 16\n",
    "password = \"\".join(random.sample(all,length))\n",
    "print(password)"
   ]
  },
  {
   "cell_type": "code",
   "execution_count": null,
   "metadata": {},
   "outputs": [],
   "source": []
  }
 ],
 "metadata": {
  "kernelspec": {
   "display_name": "Python 3",
   "language": "python",
   "name": "python3"
  },
  "language_info": {
   "codemirror_mode": {
    "name": "ipython",
    "version": 3
   },
   "file_extension": ".py",
   "mimetype": "text/x-python",
   "name": "python",
   "nbconvert_exporter": "python",
   "pygments_lexer": "ipython3",
   "version": "3.7.6"
  }
 },
 "nbformat": 4,
 "nbformat_minor": 4
}
